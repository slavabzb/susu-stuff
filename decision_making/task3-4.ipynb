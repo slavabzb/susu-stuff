{
 "cells": [
  {
   "cell_type": "markdown",
   "metadata": {},
   "source": [
    "## Задание 3"
   ]
  },
  {
   "cell_type": "markdown",
   "metadata": {},
   "source": [
    "### Постановка задачи"
   ]
  },
  {
   "cell_type": "markdown",
   "metadata": {},
   "source": [
    "Найдите агрегированную оценку двух экспертов, если матрица парных сравнений первого эксперта имеет вид, представленный в задании 1, а матрица парных сравнений второго имеет вид:\n",
    "$$\n",
    "A=\\left(\\begin{array}{cccc}\n",
    "1 & 3 & 6 & 8 \\\\\n",
    "1/3 & 1 & 4 & 5 \\\\\n",
    "1/6 & 1/4 & 1 & 3 \\\\\n",
    "1/8 & 1/5 & 1/3 & 1\n",
    "\\end{array}\\right).\n",
    "$$"
   ]
  },
  {
   "cell_type": "markdown",
   "metadata": {},
   "source": [
    "### Ход решения"
   ]
  },
  {
   "cell_type": "markdown",
   "metadata": {},
   "source": [
    "Для объединения оценок суждений двух экспертов строится матрица с средним геометрическим оценок. В данной задаче будем считать, что суждения двух экспертов обладают одинаковой степенью значимости. Введем оценки первого ($A_1$) и второго ($A_2$) экспертов."
   ]
  },
  {
   "cell_type": "code",
   "execution_count": 1,
   "metadata": {
    "collapsed": false
   },
   "outputs": [
    {
     "data": {
      "text/plain": [
       "4×4 Array{Float64,2}:\n",
       " 1.0       4.0       6.0       8.0\n",
       " 0.25      1.0       3.0       2.0\n",
       " 0.166667  0.333333  1.0       3.0\n",
       " 0.125     0.5       0.333333  1.0"
      ]
     },
     "execution_count": 1,
     "metadata": {},
     "output_type": "execute_result"
    }
   ],
   "source": [
    "A1 = [1 4 6 8; 1/4 1 3 2; 1/6 1/3 1 3; 1/8 1/2 1/3 1]"
   ]
  },
  {
   "cell_type": "code",
   "execution_count": 2,
   "metadata": {
    "collapsed": false
   },
   "outputs": [
    {
     "data": {
      "text/plain": [
       "4×4 Array{Float64,2}:\n",
       " 1.0       3.0   6.0       8.0\n",
       " 0.333333  1.0   4.0       5.0\n",
       " 0.166667  0.25  1.0       3.0\n",
       " 0.125     0.2   0.333333  1.0"
      ]
     },
     "execution_count": 2,
     "metadata": {},
     "output_type": "execute_result"
    }
   ],
   "source": [
    "A2 = [1 3 6 8; 1/3 1 4 5; 1/6 1/4 1 3; 1/8 1/5 1/3 1]"
   ]
  },
  {
   "cell_type": "markdown",
   "metadata": {},
   "source": [
    "Построим результирующую матрицу $A$ со средним геометрическим оценок."
   ]
  },
  {
   "cell_type": "code",
   "execution_count": 3,
   "metadata": {
    "collapsed": false
   },
   "outputs": [
    {
     "data": {
      "text/plain": [
       "4×4 Array{Float64,2}:\n",
       " 1.0       3.4641    6.0       8.0    \n",
       " 0.288675  1.0       3.4641    3.16228\n",
       " 0.166667  0.288675  1.0       3.0    \n",
       " 0.125     0.316228  0.333333  1.0    "
      ]
     },
     "execution_count": 3,
     "metadata": {},
     "output_type": "execute_result"
    }
   ],
   "source": [
    "using Stats\n",
    "A = map((x, y) -> geomean([x, y]), A1, A2)"
   ]
  },
  {
   "cell_type": "markdown",
   "metadata": {},
   "source": [
    "Таким образом, получили агрегированную оценку двух экспертов при условии, что суждения экспертов обладают одинаковой степенью значимости."
   ]
  },
  {
   "cell_type": "markdown",
   "metadata": {},
   "source": [
    "## Задание 4"
   ]
  },
  {
   "cell_type": "markdown",
   "metadata": {},
   "source": [
    "### Постановка задачи"
   ]
  },
  {
   "cell_type": "markdown",
   "metadata": {},
   "source": [
    "Найти агрегированную оценку экспертов из задания 3, при условии, что квалификация первого эксперта имеет вес 3 (первый эксперт более квалифицированный), а второго - 1."
   ]
  },
  {
   "cell_type": "markdown",
   "metadata": {},
   "source": [
    "### Ход решения"
   ]
  },
  {
   "cell_type": "markdown",
   "metadata": {},
   "source": [
    "Расчет агрегированной оценки в случае привлечения $n$ экспертов, имеющих различную значимость $\\alpha_k$, $k=\\overline{1,n}$, осуществляется по формуле:\n",
    "$$\n",
    "\\alpha_{ij}^{агр}=\\sqrt[n]{\\prod_{k=1}^na_{ij}^{\\alpha_k}}, \\sum_{k=1}^n\\alpha_k=1.\n",
    "$$"
   ]
  },
  {
   "cell_type": "markdown",
   "metadata": {},
   "source": [
    "Введем в рассмотрение веса $w^s$ (квалификацию) экспертов."
   ]
  },
  {
   "cell_type": "code",
   "execution_count": 4,
   "metadata": {
    "collapsed": false
   },
   "outputs": [
    {
     "data": {
      "text/plain": [
       "1×2 Array{Int32,2}:\n",
       " 3  1"
      ]
     },
     "execution_count": 4,
     "metadata": {},
     "output_type": "execute_result"
    }
   ],
   "source": [
    "ws = [3 1]"
   ]
  },
  {
   "cell_type": "markdown",
   "metadata": {},
   "source": [
    "Рассчитаем значимость суждения каждого эксперта таким образом, чтобы общая значимость была равна 1."
   ]
  },
  {
   "cell_type": "code",
   "execution_count": 5,
   "metadata": {
    "collapsed": false
   },
   "outputs": [
    {
     "data": {
      "text/plain": [
       "1×2 Array{Float64,2}:\n",
       " 0.75  0.25"
      ]
     },
     "execution_count": 5,
     "metadata": {},
     "output_type": "execute_result"
    }
   ],
   "source": [
    "a = [w / sum(ws) for w in ws]"
   ]
  },
  {
   "cell_type": "markdown",
   "metadata": {},
   "source": [
    "Рассчитаем результирующую матрицу."
   ]
  },
  {
   "cell_type": "code",
   "execution_count": 6,
   "metadata": {
    "collapsed": false
   },
   "outputs": [
    {
     "data": {
      "text/plain": [
       "4×4 Array{Float64,2}:\n",
       " 1.0       1.92936   2.44949  2.82843\n",
       " 0.518307  1.0       1.79547  1.58583\n",
       " 0.408248  0.556957  1.0      1.73205\n",
       " 0.353553  0.630583  0.57735  1.0    "
      ]
     },
     "execution_count": 6,
     "metadata": {},
     "output_type": "execute_result"
    }
   ],
   "source": [
    "A = map((x, y) -> geomean([x^a[1], y^a[2]]), A1, A2)"
   ]
  },
  {
   "cell_type": "markdown",
   "metadata": {},
   "source": [
    "Таким образом, получили агрегированную оценку двух экспертов при условии, что суждения экспертов обладают разной степенью значимости."
   ]
  }
 ],
 "metadata": {
  "anaconda-cloud": {},
  "kernelspec": {
   "display_name": "Julia 0.5.0",
   "language": "julia",
   "name": "julia-0.5"
  },
  "language_info": {
   "file_extension": ".jl",
   "mimetype": "application/julia",
   "name": "julia",
   "version": "0.5.0"
  }
 },
 "nbformat": 4,
 "nbformat_minor": 1
}
