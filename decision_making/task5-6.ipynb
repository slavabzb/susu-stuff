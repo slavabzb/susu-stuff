{
 "cells": [
  {
   "cell_type": "markdown",
   "metadata": {},
   "source": [
    "## Задание 5"
   ]
  },
  {
   "cell_type": "markdown",
   "metadata": {},
   "source": [
    "### Постановка задачи"
   ]
  },
  {
   "cell_type": "markdown",
   "metadata": {},
   "source": [
    "Для иерархической структуры, представленной на рисунке, определите приоритет провайдера, выполнив иерархический синтез.\n",
    "\n",
    "<img src=\"files/pic6.png\">\n",
    "\n",
    "Матрица сравнения критериев относительно цели имеет вид:\n",
    "$$\n",
    "A=\\left(\\begin{array}{ccccc}\n",
    "1 & 4 & 6 & 2 & 7 \\\\\n",
    "1/4 & 1 & 3 & 4 & 2 \\\\\n",
    "1/6 & 1/3 & 1 & 2 & 1 \\\\\n",
    "1/2 & 1/4 & 1/2 & 1 & 1/3 \\\\\n",
    "1/7 & 1/2 & 1 & 3 & 1\n",
    "\\end{array}\\right).\n",
    "$$"
   ]
  },
  {
   "cell_type": "markdown",
   "metadata": {},
   "source": [
    "Матрицы сравнения альтернатив относительно критериев считаются заданными."
   ]
  },
  {
   "cell_type": "markdown",
   "metadata": {},
   "source": [
    "### Ход решения"
   ]
  },
  {
   "cell_type": "markdown",
   "metadata": {},
   "source": [
    "Иерархический синтез используется для общего ранжирования альтернатив относительно цели, т.е. для подсчета количественной оценки качества альтернатив. Действовать будем согласно алгоритму."
   ]
  },
  {
   "cell_type": "markdown",
   "metadata": {},
   "source": [
    "**Шаг 1.** Для каждого элемента иерархии построить матрицы парных сравнений элементов иерархии следующего уровня. На первом уровне иерархии будем использовать матрицу сравнения относительно удовлетворения провайдером [УП]."
   ]
  },
  {
   "cell_type": "markdown",
   "metadata": {},
   "source": [
    "$$\n",
    "[УП] = \\left(\\begin{array}{ccccccc}\n",
    " & & \\underline{Т} & \\underline{С} & \\underline{Д} & \\underline{О} & \\underline{У} \\\\\n",
    "Т & | & 1 & 4 & 6 & 2 & 7 \\\\\n",
    "С & | & 1/4 & 1 & 3 & 4 & 2 \\\\\n",
    "Д & | & 1/6 & 1/3 & 1 & 2 & 1 \\\\\n",
    "О & | & 1/2 & 1/4 & 1/2 & 1 & 1/3 \\\\\n",
    "У & | & 1/7 & 1/2 & 1 & 3 & 1 \n",
    "\\end{array}\\right).\n",
    "$$"
   ]
  },
  {
   "cell_type": "code",
   "execution_count": 27,
   "metadata": {
    "collapsed": false
   },
   "outputs": [
    {
     "data": {
      "text/plain": [
       "5×5 Array{Float64,2}:\n",
       " 1.0       4.0       6.0  2.0  7.0     \n",
       " 0.25      1.0       3.0  4.0  2.0     \n",
       " 0.166667  0.333333  1.0  2.0  1.0     \n",
       " 0.5       0.25      0.5  1.0  0.333333\n",
       " 0.142857  0.5       1.0  3.0  1.0     "
      ]
     },
     "execution_count": 27,
     "metadata": {},
     "output_type": "execute_result"
    }
   ],
   "source": [
    "A = [1 4 6 2 7; 1/4 1 3 4 2; 1/6 1/3 1 2 1; 1/2 1/4 1/2 1 1/3; 1/7 1/2 1 3 1]"
   ]
  },
  {
   "cell_type": "markdown",
   "metadata": {},
   "source": [
    "Введем функцию вычисления приближенных значений максимального собственного числа и главного собственного вектора."
   ]
  },
  {
   "cell_type": "code",
   "execution_count": 28,
   "metadata": {
    "collapsed": false
   },
   "outputs": [
    {
     "name": "stderr",
     "output_type": "stream",
     "text": [
      "WARNING: Method definition eigvalvecapprox(Any) in module Main at In[13]:2 overwritten at In[28]:2.\n"
     ]
    },
    {
     "data": {
      "text/plain": [
       "eigvalvecapprox (generic function with 1 method)"
      ]
     },
     "execution_count": 28,
     "metadata": {},
     "output_type": "execute_result"
    }
   ],
   "source": [
    "function eigvalvecapprox(A)\n",
    "    eps = 1e-9\n",
    "    e = ones(size(A)[1])\n",
    "    num = A * e\n",
    "    denom = e' * num\n",
    "    prev = num / denom\n",
    "    num = A * num\n",
    "    denom = e' * num\n",
    "    next = num / denom\n",
    "    while true\n",
    "        prev = next\n",
    "        num = A * num\n",
    "        denom = e' * num\n",
    "        next = num / denom\n",
    "        result = abs(next - prev) .> eps\n",
    "        done = true\n",
    "        for r in result\n",
    "            if !r\n",
    "                done = false\n",
    "                break\n",
    "            end\n",
    "        end\n",
    "        if done\n",
    "            break\n",
    "        end\n",
    "    end\n",
    "    Wa = next\n",
    "    lmax = (e' * A * Wa) / (e' * Wa)\n",
    "    return lmax[1], Wa\n",
    "end"
   ]
  },
  {
   "cell_type": "markdown",
   "metadata": {},
   "source": [
    "Вычислим приближенные значения максимального собственного числа и главного собственного вектора для матрицы $A$."
   ]
  },
  {
   "cell_type": "code",
   "execution_count": 29,
   "metadata": {
    "collapsed": false
   },
   "outputs": [
    {
     "data": {
      "text/plain": [
       "(5.643273525681777,\n",
       "[0.505324; 0.205149; … ; 0.0867938; 0.110393])"
      ]
     },
     "execution_count": 29,
     "metadata": {},
     "output_type": "execute_result"
    }
   ],
   "source": [
    "val, vec = eigvalvecapprox(A)"
   ]
  },
  {
   "cell_type": "markdown",
   "metadata": {},
   "source": [
    "Введем функцию для вычисления индекса однородности (индекса согласованности)\n",
    "$$\n",
    "I_S=\\frac{\\lambda_{max}-n}{n-1}.\n",
    "$$"
   ]
  },
  {
   "cell_type": "code",
   "execution_count": 30,
   "metadata": {
    "collapsed": false
   },
   "outputs": [
    {
     "name": "stderr",
     "output_type": "stream",
     "text": [
      "WARNING: Method definition ids(Any, Any) in module Main at In[15]:2 overwritten at In[30]:2.\n"
     ]
    },
    {
     "data": {
      "text/plain": [
       "ids (generic function with 1 method)"
      ]
     },
     "execution_count": 30,
     "metadata": {},
     "output_type": "execute_result"
    }
   ],
   "source": [
    "function ids(lmax, n)\n",
    "    return (lmax - n) / (n - 1)\n",
    "end"
   ]
  },
  {
   "cell_type": "markdown",
   "metadata": {},
   "source": [
    "Вычислим индекс однородности для матрицы $A$."
   ]
  },
  {
   "cell_type": "code",
   "execution_count": 31,
   "metadata": {
    "collapsed": false
   },
   "outputs": [
    {
     "data": {
      "text/plain": [
       "0.16081838142044425"
      ]
     },
     "execution_count": 31,
     "metadata": {},
     "output_type": "execute_result"
    }
   ],
   "source": [
    "Is = ids(val, size(A)[1])"
   ]
  },
  {
   "cell_type": "markdown",
   "metadata": {},
   "source": [
    "Также, потребуется функция для вычисления отношения однородности (отношения согласованности)\n",
    "$$\n",
    "R_S=\\frac{I_S}{\\hat{I_S}}.\n",
    "$$"
   ]
  },
  {
   "cell_type": "code",
   "execution_count": 32,
   "metadata": {
    "collapsed": false
   },
   "outputs": [
    {
     "name": "stderr",
     "output_type": "stream",
     "text": [
      "WARNING: Method definition rs(Any, Any) in module Main at In[19]:2 overwritten at In[32]:2.\n"
     ]
    },
    {
     "data": {
      "text/plain": [
       "rs (generic function with 1 method)"
      ]
     },
     "execution_count": 32,
     "metadata": {},
     "output_type": "execute_result"
    }
   ],
   "source": [
    "function rs(idx, n)\n",
    "    mean = 0\n",
    "    if n == 3\n",
    "        mean = 0.58\n",
    "    elseif n == 4\n",
    "        mean = 0.9\n",
    "    elseif n == 5\n",
    "        mean = 1.12\n",
    "    end\n",
    "    return idx / mean\n",
    "end"
   ]
  },
  {
   "cell_type": "markdown",
   "metadata": {},
   "source": [
    "Вычислим отношение однородности для матрицы $A$."
   ]
  },
  {
   "cell_type": "code",
   "execution_count": 33,
   "metadata": {
    "collapsed": false
   },
   "outputs": [
    {
     "data": {
      "text/plain": [
       "0.14358784055396806"
      ]
     },
     "execution_count": 33,
     "metadata": {},
     "output_type": "execute_result"
    }
   ],
   "source": [
    "Rs = rs(Is, size(A)[1])"
   ]
  },
  {
   "cell_type": "code",
   "execution_count": 34,
   "metadata": {
    "collapsed": false
   },
   "outputs": [
    {
     "data": {
      "text/plain": [
       "5-element Array{Any,1}:\n",
       " [1.0 4.0 6.0 8.0; 0.25 1.0 3.0 2.0; 0.166667 0.333333 1.0 3.0; 0.125 0.5 0.333333 1.0]   \n",
       " [1.0 3.0 6.0 9.0; 0.333333 1.0 0.25 2.0; 0.166667 4.0 1.0 3.0; 0.111111 0.5 0.333333 1.0]\n",
       " [1.0 8.0 3.0 2.0; 0.125 1.0 3.0 2.0; 0.333333 0.333333 1.0 1.0; 0.5 0.5 1.0 1.0]         \n",
       " [1.0 4.0 6.0 1.0; 0.25 1.0 3.0 2.0; 0.166667 0.333333 1.0 3.0; 1.0 0.5 0.333333 1.0]     \n",
       " [1.0 3.0 2.0 8.0; 0.333333 1.0 0.25 0.5; 0.5 0.25 1.0 3.0; 0.125 2.0 0.333333 1.0]       "
      ]
     },
     "execution_count": 34,
     "metadata": {},
     "output_type": "execute_result"
    }
   ],
   "source": [
    "As = []\n",
    "push!(As, [1 4 6 8; 1/4 1 3 2; 1/6 1/3 1 3; 1/8 1/2 1/3 1])\n",
    "push!(As, [1 3 6 9; 1/3 1 1/4 2; 1/6 4 1 3; 1/9 1/2 1/3 1])\n",
    "push!(As, [1 8 3 2; 1/8 1 3 2; 1/3 1/3 1 1; 1/2 1/2 1 1])\n",
    "push!(As, [1 4 6 1; 1/4 1 3 2; 1/6 1/3 1 3; 1 1/2 1/3 1])\n",
    "push!(As, [1 3 2 8; 1/3 1 1/4 1/2; 1/2 1/4 1 3; 1/8 2 1/3 1])\n",
    "As"
   ]
  },
  {
   "cell_type": "markdown",
   "metadata": {},
   "source": [
    "Для каждой из матриц найти максимальные собственные значения (они потребуются для оценки однородности суждений) и главные собственные векторы, элементы которых равны приоритетам соответствующих элементов следующего уровня иерархии. Для этого воспользуемся алгоритмом вычисления точного значения максимального собственного числа и главного собственного вектора из задания 1, который оформим в виде функции."
   ]
  },
  {
   "cell_type": "code",
   "execution_count": 35,
   "metadata": {
    "collapsed": false
   },
   "outputs": [
    {
     "name": "stderr",
     "output_type": "stream",
     "text": [
      "WARNING: Method definition eigvalvecaccurate(Any) in module Main at In[22]:2 overwritten at In[35]:2.\n"
     ]
    },
    {
     "data": {
      "text/plain": [
       "eigvalvecaccurate (generic function with 1 method)"
      ]
     },
     "execution_count": 35,
     "metadata": {},
     "output_type": "execute_result"
    }
   ],
   "source": [
    "function eigvalvecaccurate(A)\n",
    "    a = Complex(A[1, 2])\n",
    "    b = Complex(A[1, 3])\n",
    "    c = Complex(A[1, 4])\n",
    "    d = Complex(A[2, 3])\n",
    "    e = Complex(A[2, 4])\n",
    "    f = Complex(A[3, 4])\n",
    "    B = (d*f/e+e/d/f)+(a*e/c+c/a/e)+(b*f/c+c/b/f)+(a*d/b+b/a/d)\n",
    "    C = 3-(a*d*f/c+c/a/d/f)-(a*e/b/f+b*f/a/e)-(c*d/a/e)-(c*d/b/e+b*e/c/d)\n",
    "    x = B^2/2+8C-8\n",
    "    y = (4(C+3)/3)^3\n",
    "    r = (x+sqrt(y+x^2))^(1/3) + (x-sqrt(y+x^2))^(1/3)\n",
    "    lmax = (2+sqrt(r+4))/2 + sqrt((8-r)/4) + B/(2sqrt(r+4))\n",
    "    Q = (lmax-1)^3 + (c+f+e)*(lmax-1)^2 + ((a*e-3)+(b+d)f+c/a+c/b+e/d)*(lmax-1) + (a*d*f-c-e-f+(b*e/d+b*f/a)+(c*d+a*e-a*d)/b+(c-b)/a/d)\n",
    "    first = c*(lmax-1)^2 + (a*e+b*f)*(lmax-1) + (a*d*f+b*e/d-c)\n",
    "    second = e*(lmax-1)^2 + (d*f+c/a)*(lmax-1) + (b*f/a+c*d/b-e)\n",
    "    third = f*(lmax-1)^2 + (e/d+c/b)*(lmax-1) + (c/a/d+a*e/b-f)\n",
    "    fourth = (lmax-1)^3 - 3*(lmax-1) - (b/a/d+a*d/b)\n",
    "    accurate = [first; second; third; fourth]\n",
    "    accurate /= Q\n",
    "    return lmax, accurate\n",
    "end"
   ]
  },
  {
   "cell_type": "code",
   "execution_count": 36,
   "metadata": {
    "collapsed": false
   },
   "outputs": [],
   "source": [
    "Vals = []\n",
    "Vecs = []\n",
    "\n",
    "for A in As\n",
    "    maxval, mainvec = eigvalvecaccurate(A)\n",
    "    push!(Vals, maxval)\n",
    "    push!(Vecs, mainvec)\n",
    "end"
   ]
  },
  {
   "cell_type": "code",
   "execution_count": 37,
   "metadata": {
    "collapsed": false
   },
   "outputs": [
    {
     "data": {
      "text/plain": [
       "5-element Array{Any,1}:\n",
       " 5.43324+0.0im     \n",
       " 5.70915+0.0im     \n",
       "  5.6795-0.347267im\n",
       " 7.08261-1.17543im \n",
       " 5.50552+0.0im     "
      ]
     },
     "execution_count": 37,
     "metadata": {},
     "output_type": "execute_result"
    }
   ],
   "source": [
    "Vals"
   ]
  },
  {
   "cell_type": "code",
   "execution_count": 38,
   "metadata": {
    "collapsed": false
   },
   "outputs": [
    {
     "data": {
      "text/plain": [
       "5-element Array{Any,1}:\n",
       " Complex{Float64}[0.566791+0.0im,0.17604+0.0im,0.124394+0.0im,0.132774+0.0im]                           \n",
       " Complex{Float64}[0.567362+0.0im,0.106442+0.0im,0.194434+0.0im,0.131762+0.0im]                          \n",
       " Complex{Float64}[0.475174+0.0270636im,0.180733+0.00219074im,0.0989208+0.0026145im,0.245172-0.0318688im]\n",
       " Complex{Float64}[0.333071+0.0606442im,0.194139+0.0149347im,0.169576-0.00135721im,0.303214-0.0742217im] \n",
       " Complex{Float64}[0.493833+0.0im,0.0712249+0.0im,0.244705+0.0im,0.190237+0.0im]                         "
      ]
     },
     "execution_count": 38,
     "metadata": {},
     "output_type": "execute_result"
    }
   ],
   "source": [
    "Vecs"
   ]
  },
  {
   "cell_type": "markdown",
   "metadata": {},
   "source": [
    "Построим результирующую матрицу $A$ со средним геометрическим оценок."
   ]
  },
  {
   "cell_type": "code",
   "execution_count": 39,
   "metadata": {
    "collapsed": false
   },
   "outputs": [
    {
     "data": {
      "text/plain": [
       "4×4 Array{Float64,2}:\n",
       " 1.0       4.09535   4.19296   4.09535\n",
       " 0.24418   1.0       1.11032   1.51572\n",
       " 0.238495  0.517282  1.0       2.40822\n",
       " 0.24418   0.659754  0.415244  1.0    "
      ]
     },
     "execution_count": 39,
     "metadata": {},
     "output_type": "execute_result"
    }
   ],
   "source": [
    "using Stats\n",
    "A = map((x1, x2, x3, x4, x5) -> geomean([x1, x2, x3, x4, x5]), As[1], As[2], As[3], As[4], As[5])"
   ]
  },
  {
   "cell_type": "code",
   "execution_count": null,
   "metadata": {
    "collapsed": true
   },
   "outputs": [],
   "source": []
  }
 ],
 "metadata": {
  "anaconda-cloud": {},
  "kernelspec": {
   "display_name": "Julia 0.5.0",
   "language": "julia",
   "name": "julia-0.5"
  },
  "language_info": {
   "file_extension": ".jl",
   "mimetype": "application/julia",
   "name": "julia",
   "version": "0.5.0"
  }
 },
 "nbformat": 4,
 "nbformat_minor": 1
}
